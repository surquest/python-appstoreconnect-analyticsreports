{
 "cells": [
  {
   "cell_type": "code",
   "execution_count": 1,
   "metadata": {},
   "outputs": [],
   "source": [
    "import json\n",
    "from src.surquest.utils.appstoreconnect.credentials import Credentials\n",
    "from src.surquest.utils.appstoreconnect.analyticsreports.client import Client\n",
    "from src.surquest.utils.appstoreconnect.analyticsreports.handler import Handler\n",
    "from src.surquest.utils.appstoreconnect.analyticsreports.enums.category import Category\n",
    "from src.surquest.utils.appstoreconnect.analyticsreports.enums.granularity import Granularity\n",
    "from src.surquest.utils.appstoreconnect.analyticsreports.enums.report_name import ReportName\n",
    "from pathlib import Path"
   ]
  },
  {
   "cell_type": "code",
   "execution_count": 2,
   "metadata": {},
   "outputs": [
    {
     "name": "stderr",
     "output_type": "stream",
     "text": [
      "INFO     - 2025-08-03 14:34:04,443 - Initialized Client with provided credentials\n"
     ]
    },
    {
     "name": "stderr",
     "output_type": "stream",
     "text": [
      "Bad pipe message: %s [b' 10.0; Win64; x64) AppleWebKit/537.36 (KHTML, like Gecko) Chrome/138.0.0.0 Sa']\n",
      "Bad pipe message: %s [b'ri/537.36\\r\\nAccept: text/html,application/xhtml+xml,application/xml;q=0.9,image/avif,image/webp,image/', b'ng,*/*;q=0.8,application/signed-exchange;v=b3;q=0.7\\r\\nAccept-Encoding: gzip, deflate, br, zstd\\r\\nA']\n",
      "Bad pipe message: %s [b'ept-Language: en-GB,en-US;q=0.9,en;q=0.8,de;q=0.7,ru;q=0.6\\r\\nPriority: u=0, i\\r\\nReferer: https://stu', b'o.firebase.google.com/\\r\\nSec-Ch-Ua: \"Not)A;Brand\";v=\"8\", \"Chromium\";v=\"138\", \"Google Chrome\";v=\"138\"', b'Sec-Ch-Ua-Ar']\n",
      "Bad pipe message: %s [b': \"x86\"\\r\\nSec-Ch-Ua-Bitness: \"64\"\\r\\nSec-Ch-Ua-Form-Factors: \"Desktop\"\\r\\nSec-Ch-Ua-Full-Version: \"138.']\n",
      "Bad pipe message: %s [b'7204.184\"\\r\\nSec-Ch-Ua-Full-Version-List: \"Not)A;']\n",
      "Bad pipe message: %s [b'and\";v=\"8.0.0.0\", \"Chromium\";v=\"138.0.7204.184\", \"Google Chrome\";']\n",
      "Bad pipe message: %s [b'\"138.0.7204.184\"\\r\\nSec-Ch-Ua-Mobile: ?0\\r\\nSec-Ch-Ua-Model: \"\"\\r\\nSec-Ch-Ua-Platform: \"Windows\"\\r\\nSec-Ch-Ua-Platform-Versio', b' \"19.0.0\"\\r\\nSec-Ch-Ua-Wow64: ?0\\r\\nSec-Fetch-Dest: iframe\\r\\nSec-Fetch-Mode: navigate\\r\\nSec-Fetch-Site: cross-site\\r']\n",
      "Bad pipe message: %s [b'ec-Fetch-', b'orage-Access: active\\r\\nSec-Fetch-User: ?1\\r\\nSec-User-Ip: 10.20.20.209\\r\\nUpgrade-Insec']\n",
      "Bad pipe message: %s [b'e-Requests: 1\\r\\nX-Forwarded-Host: 40959-firebase-analytics-reports-1753781098444.cluster-ombtxv25tbd6yrjpp3lukp6zhc.c']\n"
     ]
    }
   ],
   "source": [
    "key_path = Path.cwd() / \"credentials\" / \"key.p8\"\n",
    "CATEGORY = Category.FRAMEWORK_USAGE\n",
    "REPORT_NAME = ReportName.APP_STORE_INSTALLATION_AND_DELETION_STANDARD\n",
    "GRANULARITY = Granularity.DAILY\n",
    "DATE = \"2025-07-27\"\n",
    "APP_ID = \"950949627\"\n",
    "\n",
    "KEY_ID = '5WDUV3USAU' # 10-character key ID from App Store Connect\n",
    "ISSUER_ID = '69a6de80-fd44-47e3-e053-5b8c7c11a4d1'  # 36-character issuer ID\n",
    "PRIVATE_KEY = key_path.read_text()\n",
    "\n",
    "credentials = Credentials(\n",
    "    issuer_id=ISSUER_ID, # 36-character issuer ID\n",
    "    key_id=KEY_ID, # 10-character key ID from App Store Connect\n",
    "    private_key=PRIVATE_KEY\n",
    ")\n",
    "client = Client(credentials=credentials)\n",
    "# token = credentials.generate_token()\n",
    "#1A Read Report Requests\n",
    "# report_requests = client.read_report_requests(app_id=APP_ID)\n",
    "# data = client.get_data(\n",
    "#     app_id = APP_ID,\n",
    "#     report_name = REPORT_NAME,\n",
    "#     category = CATEGORY,\n",
    "#     granularity = GRANULARITY,\n",
    "#     # dates = {'2025-07-25', '2025-07-26'}\n",
    "# )\n",
    "\n",
    "# data = client.list_reports(\n",
    "#     app_id = APP_ID\n",
    "# )\n",
    "\n",
    "# # Extract Report types\n",
    "# # print(json.dumps(Handler.extract_attribute_values(data), indent=4))\n",
    "\n",
    "# dates = client.list_report_dates(\n",
    "#     report_name = REPORT_NAME,\n",
    "#     app_id = APP_ID,\n",
    "#     granularity = GRANULARITY\n",
    "# )\n",
    "\n",
    "# print(f\"/{dates}/\")\n",
    "# print(json.dumps(Handler.extract_attribute_values(dates), indent=4))\n"
   ]
  },
  {
   "cell_type": "code",
   "execution_count": 3,
   "metadata": {},
   "outputs": [
    {
     "name": "stderr",
     "output_type": "stream",
     "text": [
      "DEBUG    - 2025-08-03 14:34:08,376 - GET https://api.appstoreconnect.apple.com/v1/apps/950949627/analyticsReportRequests | Params: None\n",
      "DEBUG    - 2025-08-03 14:34:08,914 - GET https://api.appstoreconnect.apple.com/v1/apps/1207764294/analyticsReportRequests | Params: None\n"
     ]
    },
    {
     "name": "stdout",
     "output_type": "stream",
     "text": [
      "LRT: report requests 1 - [{'type': 'analyticsReportRequests', 'id': '2093eaa4-98e2-44ce-9e79-b796e45a3dd0', 'attributes': {'accessType': 'ONGOING', 'stoppedDueToInactivity': False}, 'relationships': {'reports': {'links': {'self': 'https://api.appstoreconnect.apple.com/v1/analyticsReportRequests/2093eaa4-98e2-44ce-9e79-b796e45a3dd0/relationships/reports', 'related': 'https://api.appstoreconnect.apple.com/v1/analyticsReportRequests/2093eaa4-98e2-44ce-9e79-b796e45a3dd0/reports'}}}, 'links': {'self': 'https://api.appstoreconnect.apple.com/v1/analyticsReportRequests/2093eaa4-98e2-44ce-9e79-b796e45a3dd0'}}]\n"
     ]
    },
    {
     "name": "stderr",
     "output_type": "stream",
     "text": [
      "DEBUG    - 2025-08-03 14:34:09,241 - GET https://api.appstoreconnect.apple.com/v1/apps/6451202232/analyticsReportRequests | Params: None\n"
     ]
    },
    {
     "name": "stdout",
     "output_type": "stream",
     "text": [
      "LGO: report requests 1 - [{'type': 'analyticsReportRequests', 'id': '86674563-13dd-49d9-81ae-a5dd6274989f', 'attributes': {'accessType': 'ONGOING', 'stoppedDueToInactivity': False}, 'relationships': {'reports': {'links': {'self': 'https://api.appstoreconnect.apple.com/v1/analyticsReportRequests/86674563-13dd-49d9-81ae-a5dd6274989f/relationships/reports', 'related': 'https://api.appstoreconnect.apple.com/v1/analyticsReportRequests/86674563-13dd-49d9-81ae-a5dd6274989f/reports'}}}, 'links': {'self': 'https://api.appstoreconnect.apple.com/v1/analyticsReportRequests/86674563-13dd-49d9-81ae-a5dd6274989f'}}]\n",
      "MV: report requests 1 - [{'type': 'analyticsReportRequests', 'id': '34644b15-79d7-4c96-a3ac-1b695b7e79b6', 'attributes': {'accessType': 'ONGOING', 'stoppedDueToInactivity': False}, 'relationships': {'reports': {'links': {'self': 'https://api.appstoreconnect.apple.com/v1/analyticsReportRequests/34644b15-79d7-4c96-a3ac-1b695b7e79b6/relationships/reports', 'related': 'https://api.appstoreconnect.apple.com/v1/analyticsReportRequests/34644b15-79d7-4c96-a3ac-1b695b7e79b6/reports'}}}, 'links': {'self': 'https://api.appstoreconnect.apple.com/v1/analyticsReportRequests/34644b15-79d7-4c96-a3ac-1b695b7e79b6'}}]\n"
     ]
    }
   ],
   "source": [
    "from enum import Enum\n",
    "\n",
    "class App(str, Enum):\n",
    "\n",
    "    LRT = \"950949627\"\n",
    "    LGO = \"1207764294\"\n",
    "    MV = \"6451202232\"\n",
    "\n",
    "for app in [App.LRT, App.LGO, App.MV]:\n",
    "\n",
    "    report_requests = client.read_report_requests(\n",
    "        app_id=app.value\n",
    "    )\n",
    "\n",
    "    print(f\"{app.name}: report requests {len(report_requests)} - {report_requests}\")\n",
    "\n",
    "\n",
    "    if len(report_requests) == 0:\n",
    "\n",
    "        client.create_report_request(app_id = app.value)"
   ]
  },
  {
   "cell_type": "code",
   "execution_count": 6,
   "metadata": {},
   "outputs": [
    {
     "name": "stderr",
     "output_type": "stream",
     "text": [
      "DEBUG    - 2025-08-03 14:34:50,806 - GET https://api.appstoreconnect.apple.com/v1/apps/6451202232/analyticsReportRequests | Params: None\n",
      "DEBUG    - 2025-08-03 14:34:51,041 - GET https://api.appstoreconnect.apple.com/v1/analyticsReportRequests/34644b15-79d7-4c96-a3ac-1b695b7e79b6/reports | Params: {'filter[category]': 'APP_USAGE', 'filter[name]': 'App Store Installation and Deletion Standard'}\n"
     ]
    },
    {
     "name": "stdout",
     "output_type": "stream",
     "text": [
      "[{'type': 'analyticsReportRequests', 'id': '34644b15-79d7-4c96-a3ac-1b695b7e79b6', 'attributes': {'accessType': 'ONGOING', 'stoppedDueToInactivity': False}, 'relationships': {'reports': {'links': {'self': 'https://api.appstoreconnect.apple.com/v1/analyticsReportRequests/34644b15-79d7-4c96-a3ac-1b695b7e79b6/relationships/reports', 'related': 'https://api.appstoreconnect.apple.com/v1/analyticsReportRequests/34644b15-79d7-4c96-a3ac-1b695b7e79b6/reports'}}}, 'links': {'self': 'https://api.appstoreconnect.apple.com/v1/analyticsReportRequests/34644b15-79d7-4c96-a3ac-1b695b7e79b6'}}]\n"
     ]
    },
    {
     "name": "stderr",
     "output_type": "stream",
     "text": [
      "DEBUG    - 2025-08-03 14:34:51,250 - GET https://api.appstoreconnect.apple.com/v1/analyticsReports/r6-34644b15-79d7-4c96-a3ac-1b695b7e79b6/instances | Params: None\n"
     ]
    },
    {
     "name": "stdout",
     "output_type": "stream",
     "text": [
      "[{'type': 'analyticsReports', 'id': 'r6-34644b15-79d7-4c96-a3ac-1b695b7e79b6', 'attributes': {'name': 'App Store Installation and Deletion Standard', 'category': 'APP_USAGE'}, 'relationships': {'instances': {'links': {'self': 'https://api.appstoreconnect.apple.com/v1/analyticsReports/r6-34644b15-79d7-4c96-a3ac-1b695b7e79b6/relationships/instances', 'related': 'https://api.appstoreconnect.apple.com/v1/analyticsReports/r6-34644b15-79d7-4c96-a3ac-1b695b7e79b6/instances'}}}, 'links': {'self': 'https://api.appstoreconnect.apple.com/v1/analyticsReports/r6-34644b15-79d7-4c96-a3ac-1b695b7e79b6'}}]\n",
      "r6-34644b15-79d7-4c96-a3ac-1b695b7e79b6 16\n",
      "[{'type': 'analyticsReportInstances', 'id': 'eaf7400c-7a6f-439e-a699-ff9f3ac3cbd8', 'attributes': {'granularity': 'DAILY', 'processingDate': '2025-07-21'}, 'relationships': {'segments': {'links': {'self': 'https://api.appstoreconnect.apple.com/v1/analyticsReportInstances/eaf7400c-7a6f-439e-a699-ff9f3ac3cbd8/relationships/segments', 'related': 'https://api.appstoreconnect.apple.com/v1/analyticsReportInstances/eaf7400c-7a6f-439e-a699-ff9f3ac3cbd8/segments'}}}, 'links': {'self': 'https://api.appstoreconnect.apple.com/v1/analyticsReportInstances/eaf7400c-7a6f-439e-a699-ff9f3ac3cbd8'}}, {'type': 'analyticsReportInstances', 'id': '2933496c-8958-4089-8d60-1f34b1a030a2', 'attributes': {'granularity': 'DAILY', 'processingDate': '2025-07-22'}, 'relationships': {'segments': {'links': {'self': 'https://api.appstoreconnect.apple.com/v1/analyticsReportInstances/2933496c-8958-4089-8d60-1f34b1a030a2/relationships/segments', 'related': 'https://api.appstoreconnect.apple.com/v1/analyticsReportInstances/2933496c-8958-4089-8d60-1f34b1a030a2/segments'}}}, 'links': {'self': 'https://api.appstoreconnect.apple.com/v1/analyticsReportInstances/2933496c-8958-4089-8d60-1f34b1a030a2'}}, {'type': 'analyticsReportInstances', 'id': '875ef413-5c74-4185-bff3-c4fcc965bc12', 'attributes': {'granularity': 'DAILY', 'processingDate': '2025-07-23'}, 'relationships': {'segments': {'links': {'self': 'https://api.appstoreconnect.apple.com/v1/analyticsReportInstances/875ef413-5c74-4185-bff3-c4fcc965bc12/relationships/segments', 'related': 'https://api.appstoreconnect.apple.com/v1/analyticsReportInstances/875ef413-5c74-4185-bff3-c4fcc965bc12/segments'}}}, 'links': {'self': 'https://api.appstoreconnect.apple.com/v1/analyticsReportInstances/875ef413-5c74-4185-bff3-c4fcc965bc12'}}, {'type': 'analyticsReportInstances', 'id': '7a1a1cf4-9baa-4d00-b1e8-f568330b4a69', 'attributes': {'granularity': 'DAILY', 'processingDate': '2025-07-24'}, 'relationships': {'segments': {'links': {'self': 'https://api.appstoreconnect.apple.com/v1/analyticsReportInstances/7a1a1cf4-9baa-4d00-b1e8-f568330b4a69/relationships/segments', 'related': 'https://api.appstoreconnect.apple.com/v1/analyticsReportInstances/7a1a1cf4-9baa-4d00-b1e8-f568330b4a69/segments'}}}, 'links': {'self': 'https://api.appstoreconnect.apple.com/v1/analyticsReportInstances/7a1a1cf4-9baa-4d00-b1e8-f568330b4a69'}}, {'type': 'analyticsReportInstances', 'id': '1dcf290c-3d6e-414e-af69-5ea8b02d135a', 'attributes': {'granularity': 'DAILY', 'processingDate': '2025-07-25'}, 'relationships': {'segments': {'links': {'self': 'https://api.appstoreconnect.apple.com/v1/analyticsReportInstances/1dcf290c-3d6e-414e-af69-5ea8b02d135a/relationships/segments', 'related': 'https://api.appstoreconnect.apple.com/v1/analyticsReportInstances/1dcf290c-3d6e-414e-af69-5ea8b02d135a/segments'}}}, 'links': {'self': 'https://api.appstoreconnect.apple.com/v1/analyticsReportInstances/1dcf290c-3d6e-414e-af69-5ea8b02d135a'}}, {'type': 'analyticsReportInstances', 'id': '6f911291-c7fb-4bc4-9ca7-6ab358b7d66a', 'attributes': {'granularity': 'WEEKLY', 'processingDate': '2025-07-25'}, 'relationships': {'segments': {'links': {'self': 'https://api.appstoreconnect.apple.com/v1/analyticsReportInstances/6f911291-c7fb-4bc4-9ca7-6ab358b7d66a/relationships/segments', 'related': 'https://api.appstoreconnect.apple.com/v1/analyticsReportInstances/6f911291-c7fb-4bc4-9ca7-6ab358b7d66a/segments'}}}, 'links': {'self': 'https://api.appstoreconnect.apple.com/v1/analyticsReportInstances/6f911291-c7fb-4bc4-9ca7-6ab358b7d66a'}}, {'type': 'analyticsReportInstances', 'id': 'c9a14878-d518-452f-a604-b97fb7395a43', 'attributes': {'granularity': 'DAILY', 'processingDate': '2025-07-26'}, 'relationships': {'segments': {'links': {'self': 'https://api.appstoreconnect.apple.com/v1/analyticsReportInstances/c9a14878-d518-452f-a604-b97fb7395a43/relationships/segments', 'related': 'https://api.appstoreconnect.apple.com/v1/analyticsReportInstances/c9a14878-d518-452f-a604-b97fb7395a43/segments'}}}, 'links': {'self': 'https://api.appstoreconnect.apple.com/v1/analyticsReportInstances/c9a14878-d518-452f-a604-b97fb7395a43'}}, {'type': 'analyticsReportInstances', 'id': 'b0499329-4334-447b-9e84-9687ff33a867', 'attributes': {'granularity': 'DAILY', 'processingDate': '2025-07-27'}, 'relationships': {'segments': {'links': {'self': 'https://api.appstoreconnect.apple.com/v1/analyticsReportInstances/b0499329-4334-447b-9e84-9687ff33a867/relationships/segments', 'related': 'https://api.appstoreconnect.apple.com/v1/analyticsReportInstances/b0499329-4334-447b-9e84-9687ff33a867/segments'}}}, 'links': {'self': 'https://api.appstoreconnect.apple.com/v1/analyticsReportInstances/b0499329-4334-447b-9e84-9687ff33a867'}}, {'type': 'analyticsReportInstances', 'id': '84d36683-36f0-4c79-9079-38338b80065c', 'attributes': {'granularity': 'DAILY', 'processingDate': '2025-07-28'}, 'relationships': {'segments': {'links': {'self': 'https://api.appstoreconnect.apple.com/v1/analyticsReportInstances/84d36683-36f0-4c79-9079-38338b80065c/relationships/segments', 'related': 'https://api.appstoreconnect.apple.com/v1/analyticsReportInstances/84d36683-36f0-4c79-9079-38338b80065c/segments'}}}, 'links': {'self': 'https://api.appstoreconnect.apple.com/v1/analyticsReportInstances/84d36683-36f0-4c79-9079-38338b80065c'}}, {'type': 'analyticsReportInstances', 'id': 'e5094870-cb35-4a35-a2f8-bd227e60d1f9', 'attributes': {'granularity': 'DAILY', 'processingDate': '2025-07-29'}, 'relationships': {'segments': {'links': {'self': 'https://api.appstoreconnect.apple.com/v1/analyticsReportInstances/e5094870-cb35-4a35-a2f8-bd227e60d1f9/relationships/segments', 'related': 'https://api.appstoreconnect.apple.com/v1/analyticsReportInstances/e5094870-cb35-4a35-a2f8-bd227e60d1f9/segments'}}}, 'links': {'self': 'https://api.appstoreconnect.apple.com/v1/analyticsReportInstances/e5094870-cb35-4a35-a2f8-bd227e60d1f9'}}, {'type': 'analyticsReportInstances', 'id': '53695636-a5c9-4cde-add9-cf77dde6ce7c', 'attributes': {'granularity': 'DAILY', 'processingDate': '2025-07-30'}, 'relationships': {'segments': {'links': {'self': 'https://api.appstoreconnect.apple.com/v1/analyticsReportInstances/53695636-a5c9-4cde-add9-cf77dde6ce7c/relationships/segments', 'related': 'https://api.appstoreconnect.apple.com/v1/analyticsReportInstances/53695636-a5c9-4cde-add9-cf77dde6ce7c/segments'}}}, 'links': {'self': 'https://api.appstoreconnect.apple.com/v1/analyticsReportInstances/53695636-a5c9-4cde-add9-cf77dde6ce7c'}}, {'type': 'analyticsReportInstances', 'id': '76ed67bf-09a4-47b1-8bad-014a39e5bcad', 'attributes': {'granularity': 'DAILY', 'processingDate': '2025-07-31'}, 'relationships': {'segments': {'links': {'self': 'https://api.appstoreconnect.apple.com/v1/analyticsReportInstances/76ed67bf-09a4-47b1-8bad-014a39e5bcad/relationships/segments', 'related': 'https://api.appstoreconnect.apple.com/v1/analyticsReportInstances/76ed67bf-09a4-47b1-8bad-014a39e5bcad/segments'}}}, 'links': {'self': 'https://api.appstoreconnect.apple.com/v1/analyticsReportInstances/76ed67bf-09a4-47b1-8bad-014a39e5bcad'}}, {'type': 'analyticsReportInstances', 'id': '30c05e1c-3144-49f7-ba3e-b7e5f60a1b56', 'attributes': {'granularity': 'DAILY', 'processingDate': '2025-08-01'}, 'relationships': {'segments': {'links': {'self': 'https://api.appstoreconnect.apple.com/v1/analyticsReportInstances/30c05e1c-3144-49f7-ba3e-b7e5f60a1b56/relationships/segments', 'related': 'https://api.appstoreconnect.apple.com/v1/analyticsReportInstances/30c05e1c-3144-49f7-ba3e-b7e5f60a1b56/segments'}}}, 'links': {'self': 'https://api.appstoreconnect.apple.com/v1/analyticsReportInstances/30c05e1c-3144-49f7-ba3e-b7e5f60a1b56'}}, {'type': 'analyticsReportInstances', 'id': '76a6a5d6-0002-4595-b7d1-703c39893c7c', 'attributes': {'granularity': 'WEEKLY', 'processingDate': '2025-08-01'}, 'relationships': {'segments': {'links': {'self': 'https://api.appstoreconnect.apple.com/v1/analyticsReportInstances/76a6a5d6-0002-4595-b7d1-703c39893c7c/relationships/segments', 'related': 'https://api.appstoreconnect.apple.com/v1/analyticsReportInstances/76a6a5d6-0002-4595-b7d1-703c39893c7c/segments'}}}, 'links': {'self': 'https://api.appstoreconnect.apple.com/v1/analyticsReportInstances/76a6a5d6-0002-4595-b7d1-703c39893c7c'}}, {'type': 'analyticsReportInstances', 'id': '417cf1da-8c0d-4bbe-bfbf-224e7acd76dc', 'attributes': {'granularity': 'DAILY', 'processingDate': '2025-08-02'}, 'relationships': {'segments': {'links': {'self': 'https://api.appstoreconnect.apple.com/v1/analyticsReportInstances/417cf1da-8c0d-4bbe-bfbf-224e7acd76dc/relationships/segments', 'related': 'https://api.appstoreconnect.apple.com/v1/analyticsReportInstances/417cf1da-8c0d-4bbe-bfbf-224e7acd76dc/segments'}}}, 'links': {'self': 'https://api.appstoreconnect.apple.com/v1/analyticsReportInstances/417cf1da-8c0d-4bbe-bfbf-224e7acd76dc'}}, {'type': 'analyticsReportInstances', 'id': '3c76b302-af40-434e-92b3-1d2402634a44', 'attributes': {'granularity': 'DAILY', 'processingDate': '2025-08-03'}, 'relationships': {'segments': {'links': {'self': 'https://api.appstoreconnect.apple.com/v1/analyticsReportInstances/3c76b302-af40-434e-92b3-1d2402634a44/relationships/segments', 'related': 'https://api.appstoreconnect.apple.com/v1/analyticsReportInstances/3c76b302-af40-434e-92b3-1d2402634a44/segments'}}}, 'links': {'self': 'https://api.appstoreconnect.apple.com/v1/analyticsReportInstances/3c76b302-af40-434e-92b3-1d2402634a44'}}]\n"
     ]
    }
   ],
   "source": [
    "app = \"6451202232\"\n",
    "report_requests = client.read_report_requests(\n",
    "    app_id=app\n",
    ")\n",
    "\n",
    "report_requests\n",
    "print(report_requests)\n",
    "report_requests_id = report_requests[0].get(\"id\")\n",
    "\n",
    "specific_request = client.read_report_for_specific_request(\n",
    "    report_requests_id,\n",
    "    params={\n",
    "        \"filter[category]\": REPORT_NAME.category.value,\n",
    "        \"filter[name]\":REPORT_NAME.value\n",
    "    }\n",
    ")\n",
    "print(specific_request)\n",
    "specific_request_id = specific_request[0].get(\"id\")\n",
    "specific_request_ids = Handler.extract_ids(specific_request)\n",
    "\n",
    "for i in specific_request_ids:\n",
    "\n",
    "    instances = client.read_list_of_instances_of_report(specific_request_id)\n",
    "    print(i, len(instances))\n",
    "    print(instances)\n",
    "    print()"
   ]
  },
  {
   "cell_type": "code",
   "execution_count": null,
   "metadata": {},
   "outputs": [],
   "source": [
    "#1A Read Report Requests\n",
    "report_requests = client.read_report_requests(app_id=APP_ID)\n",
    "report_request_id = report_requests.get(\"data\")[0].get(\"id\")\n",
    "RenderJSON(report_requests)\n"
   ]
  },
  {
   "cell_type": "code",
   "execution_count": null,
   "metadata": {},
   "outputs": [],
   "source": [
    "#2A Read Report\n",
    "report = client.read_report_for_specific_request(\n",
    "    request_id=report_request_id,\n",
    "    params={\n",
    "        \"filter[category]\": CATEGORY.value,\n",
    "        \"filter[name]\": REPORT_NAME\n",
    "    }\n",
    ")\n",
    "\n",
    "report_id = report.get(\"data\")[0].get(\"id\")\n",
    "print(report_id)\n",
    "print(report)\n",
    "RenderJSON(report)"
   ]
  },
  {
   "cell_type": "code",
   "execution_count": null,
   "metadata": {},
   "outputs": [],
   "source": [
    "#3A Read Report Instances\n",
    "instances = client.read_list_of_instances_of_report(\n",
    "    report_id=report_id,\n",
    "    params={\n",
    "        \"filter[granularity]\": GRANULARITY.value,\n",
    "        \"filter[processingDate]\": DATE\n",
    "    }\n",
    ")\n",
    "instance_id = instances.get(\"data\")[0].get(\"id\")\n",
    "RenderJSON(instances)"
   ]
  },
  {
   "cell_type": "code",
   "execution_count": null,
   "metadata": {},
   "outputs": [],
   "source": [
    "#4 Get segments\n",
    "segments = client.read_segments_for_report(\n",
    "    instance_id=instance_id\n",
    ")\n",
    "url  = segments.get(\"data\")[0].get(\"attributes\").get(\"url\")\n",
    "RenderJSON(segments)\n"
   ]
  },
  {
   "cell_type": "code",
   "execution_count": null,
   "metadata": {},
   "outputs": [],
   "source": [
    "# Download the report data\n",
    "data = client.download_report_to_dicts(\n",
    "    report_url=url\n",
    ")\n",
    "data"
   ]
  },
  {
   "cell_type": "code",
   "execution_count": null,
   "metadata": {},
   "outputs": [],
   "source": [
    "client.get_data(\n",
    "    app_id = APP_ID,\n",
    "    report_name = REPORT_NAME,\n",
    "    category = CATEGORY,\n",
    "    granularity = GRANULARITY,\n",
    "    dates = {'2025-07-25', '2025-07-26'}\n",
    ")\n"
   ]
  }
 ],
 "metadata": {
  "kernelspec": {
   "display_name": ".venv",
   "language": "python",
   "name": "python3"
  },
  "language_info": {
   "codemirror_mode": {
    "name": "ipython",
    "version": 3
   },
   "file_extension": ".py",
   "mimetype": "text/x-python",
   "name": "python",
   "nbconvert_exporter": "python",
   "pygments_lexer": "ipython3",
   "version": "3.12.7"
  }
 },
 "nbformat": 4,
 "nbformat_minor": 2
}
