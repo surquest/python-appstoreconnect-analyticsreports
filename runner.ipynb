{
 "cells": [
  {
   "cell_type": "code",
   "execution_count": 1,
   "metadata": {},
   "outputs": [],
   "source": [
    "import json\n",
    "from src.surquest.utils.appstoreconnect.credentials import Credentials\n",
    "from src.surquest.utils.appstoreconnect.analyticsreports.client import Client\n",
    "from src.surquest.utils.appstoreconnect.analyticsreports.handler import Handler\n",
    "from src.surquest.utils.appstoreconnect.analyticsreports.enums.category import Category\n",
    "from src.surquest.utils.appstoreconnect.analyticsreports.enums.granularity import Granularity\n",
    "from src.surquest.utils.appstoreconnect.analyticsreports.enums.report_name import ReportName\n",
    "from pathlib import Path"
   ]
  },
  {
   "cell_type": "code",
   "execution_count": 2,
   "metadata": {},
   "outputs": [
    {
     "name": "stderr",
     "output_type": "stream",
     "text": [
      "INFO     - 2025-08-05 08:51:40,830 - Initialized Client with provided credentials\n",
      "DEBUG    - 2025-08-05 08:51:40,856 - GET https://api.appstoreconnect.apple.com/v1/apps/950949627/analyticsReportRequests | Params: None\n",
      "Bad pipe message: %s [b'\\x8d\\x06\\xcf\\xfe\\xc22rc\\r\\x08\\x19\\xbe\\xc0\\x9fZ\\xe4\\xa2\\xf7 \\xa0T\\x93\\x00\\xbaG\\x19Ku\\x902\\x18s;x\\x99\\x94Y\\x1d\\xcc\\xbe\\x9f\\xf1.\\xd7\\xfe\\xb0_db?\\x86\\x00\\x1a\\xc0+\\xc0/\\xc0,\\xc00\\xcc\\xa9\\xcc\\xa8\\xc0\\t\\xc0\\x13\\xc0\\n\\xc0\\x14\\x13\\x01\\x13\\x02\\x13\\x03\\x01\\x00\\x05A\\x00\\x0b\\x00\\x02\\x01\\x00\\xff\\x01\\x00\\x01\\x00\\x00\\x17\\x00\\x00\\x00\\x12\\x00\\x00\\x00\\x05\\x00\\x05\\x01\\x00\\x00\\x00\\x00\\x00\\n\\x00\\x0c\\x00\\n\\x11\\xec\\x00\\x1d\\x00\\x17\\x00\\x18\\x00\\x19\\x00\\r\\x00\\x1a\\x00\\x18\\x08\\x04\\x04\\x03\\x08\\x07\\x08\\x05\\x08\\x06\\x04\\x01\\x05\\x01\\x06\\x01\\x05\\x03\\x06\\x03\\x02\\x01\\x02\\x03\\x00+\\x00\\x05\\x04\\x03\\x04\\x03\\x03\\x003\\x04\\xea\\x04\\xe8\\x11\\xec\\x04\\xc0\\x9a\\\\5\\x8a\\x0c\\x1c{\\x01Bz\\xc6\\xce;\\xe8)y\\xf5', b'\\x06\\x82+\\x05\\x8a\\xf6D\\xcd\\xe2\\xd6\\x07\\x99\\t0v\\x15\\xa8\\x9dW\\x1b\\xc5\\xa4\\xb4V\\x85G\\xcb\\xd85f\\xa1\\x82\\xa6\\x07S\\x9a\\xb6z\\x9d\\xf5Kc\\xb1M\\xc2\\x93a6D7\\xe7\\xd9K\\xe8Y\\x1a\\xf1\\xb0\\x17f!:h\\x178}%-\\xa5w?\\x93\\xa8)f\\xd9!\\xc1\\xbb\\x11\\xea\\t\\xcab\\t\\xa0bc\\xa8\\xec\\xec\\xc9\\x16\\x056~;U\\xb6r\\x01\\xef\\xf16]x\\x8fM\\xac\\xaar\\xa2\\xa6x+\\xc6\\x88\\xcc2\\x81\\x86t\\xce\\xb9m\\x10\\xf3w\\xc9\\xfc\\xc6\\x12$\\xc9\\xbc\\xc7I\\xe6\\x82\\xbd\\xc9\\xc5\\xc1]\\x17\\xab\\xb4!.:0\\xa0v\\xd2\\x0bs\\xb1', b'k\\x8c\\x8c\\x91D\\xdbg\\'\\\\\\x00\\x9b\\xe9Is\\x1aH6\\xd9\\xb5\\xbcG[\\xa7\\xeb\\xeaM=FHp\\x84bsaI}E\\x18\\xbb\\x94\\xb0/4\\x1a\\x1b\\xa7\\x87\\xa9f\\xcb\\x1c\\x19F\\xab\\xb0T\\x08\\x14%z\\xac&m\\x04\\xbf\\xca\\'\\x007:\\xb3Yu\\x81\\xc3|P-\\xbb\\x9bX\\x9co\\xad\\x02\\x90\\xac\\x1bj\\xa6\\x1b\\x00:\\xf3n\\x14\\x8b\\x15\\x0c\\xc4\\x11\\x1d\\xc2\\n\\x8e\\xf6\\x00\\x10+\\x0bz\\xc8\\xbc\\xbb\\x1a\\xc6o\\xb7c\\xe5\\xeb`5\\x97\\xa0\\x80\\xach\\x13\\xd4\\x9b\\xb2c\\xca)\\xec!\\xb8\\xc2\\x1e\\xf0\"nEX\\x99\\x9b&f\\xa8KQ\\xf2Cw5\\xaaC\\xd7\\xe6\\x14\\xe3\\xcb\\x03?\\xa4GY\\xe3\\x1d', b'\\x9e!z\\x84\\x01|\\r\\x87\\xd1pe\\x10-V\\xa2\\xc1\\xb1\\xa7l\\xbcQd\\x17\\xc9\\x8d\\x9af\\xc7\\x12!f<S\\x14\\xbc\\xf9\\x0739\\xa2Q\\xfaV:\\xf1\\xc7\\x81\\x93\\xc5\\x9a\\x86\\xcc\\x0f\\xe5\\xc4;3Y\\xd8y\\x91\\xad\\xe1\\xaa\\xe5\"\\x13()\\xc0\\xce\\xb1-\\x0e\\xdc\\x95\\x8c\\xc8\\x0bO\\x1b\\x91\\x9f\\xda\\x972\\x06\\x1f,(\\xc9\\xa2\\xc7S\\x1fv\\x97\\xcd\\x83U\\xbd\\x88\\x0f\\x89\\x1a\\x9de\\xe1\\xc1ElP\\xa9\\xa2\\xaf)\\xc6\\x98v\\xbc]\\xa5\\x9b \\xc4)\\x9cs\\x04x(\\xfa\\x16R\\xc6\\xab\\x85\\xa6\\x14\\x93EDp\\xa6V\\x9d72\\x056GQ@\\x93i\\x0c\\xcc-\\xbc\\x07Q\\xf6$\\x96S\\xc6V\\xa6\\x87\\x0e0I&\\xdc\\xb5l\\x01\\xd0\\xbc\\x15\\xb2\\xf4d\\xc0T\\xf4\\xbbO\\x17\\xb5\\x91A\\x97\\xb9\\x02\\x89\\xb0\\x9b}\\xef\\x81']\n",
      "Bad pipe message: %s [b'\\xecHp\\xf8\\xb4*\\xc2M`\\xec_X\\xe6\\xb86q\\x0e\\xa0,4\\n\\x11\\xaa']\n",
      "Bad pipe message: %s [b'\\xba\\xc1\\xe0<W\\x96\\xc4\\x14tV\\xd3\\xab\\x9c\\xa7\\x8c/\\xe8\\x885\\xeb\\x14?F\\x98:ZQQ\\x0c\\xc0\\xcf\\xd9\\x1c\\x14\\xa6\\xb4\\xc3M\\xe36V\\x04\\xa4s\\xd9\\x97xhc\\xeb\\xb2 \\xe9\\xb1\\xc2']\n",
      "Bad pipe message: %s [b'\\x83:j\\xac\\xf3\\x9aX\\xafF/\\xe1\\x97L\\xef\\x80A`\\xa5E!t\\xc3\\xd6\\xe9P\\x1a#\\x8a\\tt\\x10\\xc4\\x19G\\xa4J\\xca7+O\\xa3\\x02~\\xeb\\xc2\\x17\\x8e\\xe9\\xa9&a\\xa8\\x9cQ\\xa7\\xea3F\\x93\\xd4\\xcc\\xfc1\\x90\\x05\\xd1o\\xd8\\xcc\\x1c>\\xd9\\xb1\\x12\\x18O-8\\x80\\xa6b\\x9ad\\x02_\\xfc\\'o\\xfb*\\xc5\\xa5\\xf6a\\xc6\\xd3\\xb6\\nIHZ\"4w\\x9c{\\x8c\\x1a\\x80P\\xb0\\xc9YeP\\xc25AJ\\xaa\\x1c\\xf1\\x11-tA\\xa6^VIb\\xe7%<F\\xa3\\x83\\x07\\xbb\\xdc\\xe1\\xa5\\x10(o\\xc1C\\x11u\\x85x\\x10;\\x0e\\x8e\\xf6L\\xc1\\xd0\\xcc)\\xd2\\x99.s%c\\'\\x16\\xf6\\xa2q\\x91l\\x81^##\\x18\\xc4U\\xde\\xc7D\\xa6\\x8a\\x8f\\x84\\xb5#\\xbf#\\x99F\\x0bZE\\x82V\\x952d~X\\xb3\\x8c\\xc3S7\\x9ag>Y{\\xcfP\\xc3\\xb7\\xa2!(\\xcb\\xcc\\xccj\\x0e\\xff\\x97']\n",
      "Bad pipe message: %s [b\"'\\x82Y0\\xb1\\xd3\\xcc9\\xf9\\xb44;\\x944\\xb4\\xf0\\xa0\\xe4xl\\xb4\\xf2\\xb4\\x07\\xa7\\x94\"]\n",
      "Bad pipe message: %s [b'\\x17\\x1b\\x05F@\\x8a\\xa7\\xd0\\x80\\xa9P\\xb4\\x9bb\\xf8\\xbc\\x17b\\x8ce\\xc4g4r:\\x16\\x05\\xcf.FJ*\\xdbX0\\xe9UI\\x95\\xca\\xbc\\xb2\\xaeP\\xa6D)\\x1b\\xcc\\xbb\\x8b~\\x96\\x83\\x8d j\\xbb\\x8c\\x19\\x0f+)w\\ndO[\\x9a\\xc6\\x85\\xe4$\\x15<\\xc2\\xa7\\x14\\x17\\xfa\\xc7`\\xb90\\xb7\\xa6E^\\xc9\\x04\\x80D4\\xab\\x07#\\xbc}\\xd0\\xb8q\\xbaZ\\x91\\xe5w\\x88']\n",
      "DEBUG    - 2025-08-05 08:51:41,400 - GET https://api.appstoreconnect.apple.com/v1/analyticsReportRequests/2093eaa4-98e2-44ce-9e79-b796e45a3dd0/reports | Params: {'filter[category]': 'APP_USAGE', 'filter[name]': 'App Opt In'}\n",
      "DEBUG    - 2025-08-05 08:51:42,174 - GET https://api.appstoreconnect.apple.com/v1/analyticsReports/r189-2093eaa4-98e2-44ce-9e79-b796e45a3dd0/instances | Params: {'filter[granularity]': 'DAILY'}\n",
      "DEBUG    - 2025-08-05 08:51:42,639 - GET https://api.appstoreconnect.apple.com/v1/analyticsReports/r189-2093eaa4-98e2-44ce-9e79-b796e45a3dd0/instances | Params: {'filter[granularity]': 'DAILY', 'filter[processingDate]': '2025-08-03'}\n",
      "DEBUG    - 2025-08-05 08:51:43,033 - GET https://api.appstoreconnect.apple.com/v1/analyticsReports/r189-2093eaa4-98e2-44ce-9e79-b796e45a3dd0/instances | Params: {'filter[granularity]': 'DAILY', 'filter[processingDate]': '2025-07-20'}\n",
      "DEBUG    - 2025-08-05 08:51:43,316 - GET https://api.appstoreconnect.apple.com/v1/analyticsReports/r189-2093eaa4-98e2-44ce-9e79-b796e45a3dd0/instances | Params: {'filter[granularity]': 'DAILY', 'filter[processingDate]': '2025-07-26'}\n",
      "DEBUG    - 2025-08-05 08:51:43,550 - GET https://api.appstoreconnect.apple.com/v1/analyticsReports/r189-2093eaa4-98e2-44ce-9e79-b796e45a3dd0/instances | Params: {'filter[granularity]': 'DAILY', 'filter[processingDate]': '2025-07-31'}\n",
      "DEBUG    - 2025-08-05 08:51:44,162 - GET https://api.appstoreconnect.apple.com/v1/analyticsReports/r189-2093eaa4-98e2-44ce-9e79-b796e45a3dd0/instances | Params: {'filter[granularity]': 'DAILY', 'filter[processingDate]': '2025-07-25'}\n",
      "DEBUG    - 2025-08-05 08:51:44,387 - GET https://api.appstoreconnect.apple.com/v1/analyticsReports/r189-2093eaa4-98e2-44ce-9e79-b796e45a3dd0/instances | Params: {'filter[granularity]': 'DAILY', 'filter[processingDate]': '2025-08-05'}\n",
      "DEBUG    - 2025-08-05 08:51:44,749 - GET https://api.appstoreconnect.apple.com/v1/analyticsReports/r189-2093eaa4-98e2-44ce-9e79-b796e45a3dd0/instances | Params: {'filter[granularity]': 'DAILY', 'filter[processingDate]': '2025-07-22'}\n",
      "DEBUG    - 2025-08-05 08:51:45,105 - GET https://api.appstoreconnect.apple.com/v1/analyticsReports/r189-2093eaa4-98e2-44ce-9e79-b796e45a3dd0/instances | Params: {'filter[granularity]': 'DAILY', 'filter[processingDate]': '2025-08-02'}\n",
      "DEBUG    - 2025-08-05 08:51:45,503 - GET https://api.appstoreconnect.apple.com/v1/analyticsReports/r189-2093eaa4-98e2-44ce-9e79-b796e45a3dd0/instances | Params: {'filter[granularity]': 'DAILY', 'filter[processingDate]': '2025-07-30'}\n",
      "DEBUG    - 2025-08-05 08:51:46,035 - GET https://api.appstoreconnect.apple.com/v1/analyticsReports/r189-2093eaa4-98e2-44ce-9e79-b796e45a3dd0/instances | Params: {'filter[granularity]': 'DAILY', 'filter[processingDate]': '2025-07-21'}\n",
      "DEBUG    - 2025-08-05 08:51:46,701 - GET https://api.appstoreconnect.apple.com/v1/analyticsReports/r189-2093eaa4-98e2-44ce-9e79-b796e45a3dd0/instances | Params: {'filter[granularity]': 'DAILY', 'filter[processingDate]': '2025-07-28'}\n",
      "DEBUG    - 2025-08-05 08:51:46,947 - GET https://api.appstoreconnect.apple.com/v1/analyticsReports/r189-2093eaa4-98e2-44ce-9e79-b796e45a3dd0/instances | Params: {'filter[granularity]': 'DAILY', 'filter[processingDate]': '2025-07-29'}\n",
      "DEBUG    - 2025-08-05 08:51:47,189 - GET https://api.appstoreconnect.apple.com/v1/analyticsReports/r189-2093eaa4-98e2-44ce-9e79-b796e45a3dd0/instances | Params: {'filter[granularity]': 'DAILY', 'filter[processingDate]': '2025-07-23'}\n",
      "DEBUG    - 2025-08-05 08:51:47,428 - GET https://api.appstoreconnect.apple.com/v1/analyticsReports/r189-2093eaa4-98e2-44ce-9e79-b796e45a3dd0/instances | Params: {'filter[granularity]': 'DAILY', 'filter[processingDate]': '2025-07-24'}\n",
      "DEBUG    - 2025-08-05 08:51:47,690 - GET https://api.appstoreconnect.apple.com/v1/analyticsReports/r189-2093eaa4-98e2-44ce-9e79-b796e45a3dd0/instances | Params: {'filter[granularity]': 'DAILY', 'filter[processingDate]': '2025-08-01'}\n",
      "DEBUG    - 2025-08-05 08:51:48,561 - GET https://api.appstoreconnect.apple.com/v1/analyticsReports/r189-2093eaa4-98e2-44ce-9e79-b796e45a3dd0/instances | Params: {'filter[granularity]': 'DAILY', 'filter[processingDate]': '2025-07-27'}\n",
      "DEBUG    - 2025-08-05 08:51:48,908 - GET https://api.appstoreconnect.apple.com/v1/analyticsReports/r189-2093eaa4-98e2-44ce-9e79-b796e45a3dd0/instances | Params: {'filter[granularity]': 'DAILY', 'filter[processingDate]': '2025-08-04'}\n",
      "DEBUG    - 2025-08-05 08:51:49,361 - GET https://api.appstoreconnect.apple.com/v1/analyticsReportInstances/d2ed0a21-96c3-4b74-b6ef-f0f8377b0500/segments | Params: None\n",
      "DEBUG    - 2025-08-05 08:51:49,572 - GET https://api.appstoreconnect.apple.com/v1/analyticsReportInstances/b9b995cb-f2ae-4cf8-ac1f-91cefb629a39/segments | Params: None\n",
      "DEBUG    - 2025-08-05 08:51:49,933 - GET https://api.appstoreconnect.apple.com/v1/analyticsReportInstances/bd3400d2-884b-4542-b585-18de18abcde2/segments | Params: None\n",
      "DEBUG    - 2025-08-05 08:51:50,170 - GET https://api.appstoreconnect.apple.com/v1/analyticsReportInstances/275f359a-fea0-4948-9514-3966145d881d/segments | Params: None\n",
      "DEBUG    - 2025-08-05 08:51:50,404 - GET https://api.appstoreconnect.apple.com/v1/analyticsReportInstances/c3e06957-1087-4d80-9d9c-c650f0a0729c/segments | Params: None\n",
      "DEBUG    - 2025-08-05 08:51:50,633 - GET https://api.appstoreconnect.apple.com/v1/analyticsReportInstances/fa3616e5-7176-491c-9a5a-d1953509d6c6/segments | Params: None\n",
      "DEBUG    - 2025-08-05 08:51:50,875 - GET https://api.appstoreconnect.apple.com/v1/analyticsReportInstances/48220bf7-c75e-46fe-8fa8-3abd013d8836/segments | Params: None\n",
      "DEBUG    - 2025-08-05 08:51:51,079 - GET https://api.appstoreconnect.apple.com/v1/analyticsReportInstances/a1d8b1f3-aa24-4fc7-82ad-fe4be8c5ef00/segments | Params: None\n",
      "DEBUG    - 2025-08-05 08:51:51,285 - GET https://api.appstoreconnect.apple.com/v1/analyticsReportInstances/3eca4bde-518f-4390-be54-07b1a620b99e/segments | Params: None\n",
      "DEBUG    - 2025-08-05 08:51:51,523 - GET https://api.appstoreconnect.apple.com/v1/analyticsReportInstances/7a79894b-ae8a-4c40-bea3-3e93ee3dd9a9/segments | Params: None\n",
      "DEBUG    - 2025-08-05 08:51:51,846 - GET https://api.appstoreconnect.apple.com/v1/analyticsReportInstances/eb3afc77-133f-499e-85d0-3b9160d4270a/segments | Params: None\n",
      "DEBUG    - 2025-08-05 08:51:52,284 - GET https://api.appstoreconnect.apple.com/v1/analyticsReportInstances/b2c37636-6cfe-4ff7-87ff-2d3f82859985/segments | Params: None\n",
      "DEBUG    - 2025-08-05 08:51:52,515 - GET https://api.appstoreconnect.apple.com/v1/analyticsReportInstances/d71fee63-72b5-4226-b05d-cc2627bf6a2a/segments | Params: None\n",
      "DEBUG    - 2025-08-05 08:51:52,720 - GET https://api.appstoreconnect.apple.com/v1/analyticsReportInstances/db142355-f73e-4870-a18f-c34756701e64/segments | Params: None\n",
      "DEBUG    - 2025-08-05 08:51:52,946 - GET https://api.appstoreconnect.apple.com/v1/analyticsReportInstances/f50998de-1415-4dbd-8c14-8ecf37c89ed4/segments | Params: None\n",
      "DEBUG    - 2025-08-05 08:51:53,151 - GET https://api.appstoreconnect.apple.com/v1/analyticsReportInstances/368a09d3-96ca-4880-9afd-c210cdba2718/segments | Params: None\n",
      "DEBUG    - 2025-08-05 08:51:53,389 - GET https://api.appstoreconnect.apple.com/v1/analyticsReportInstances/6640b793-b2cb-4440-9493-78475405f52f/segments | Params: None\n",
      "INFO     - 2025-08-05 08:51:57,594 - Entries: duplicated 0, original: 19, deduplicated: 19\n"
     ]
    }
   ],
   "source": [
    "key_path = Path.cwd() / \"credentials\" / \"key.p8\"\n",
    "CATEGORY = Category.FRAMEWORK_USAGE\n",
    "REPORT_NAME = ReportName.APP_OPT_IN\n",
    "GRANULARITY = Granularity.DAILY\n",
    "APP_ID = \"950949627\"\n",
    "\n",
    "KEY_ID = '5WDUV3USAU' # 10-character key ID from App Store Connect\n",
    "ISSUER_ID = '69a6de80-fd44-47e3-e053-5b8c7c11a4d1'  # 36-character issuer ID\n",
    "PRIVATE_KEY = key_path.read_text()\n",
    "CSV_PATH = Path.cwd() / \"data\" / REPORT_NAME.name / f\"data.{APP_ID}.csv\"\n",
    "JSON_PATH = Path.cwd() / \"data\" / REPORT_NAME.name / f\"data.{APP_ID}.jsonl\"\n",
    "\n",
    "credentials = Credentials(\n",
    "    issuer_id=ISSUER_ID, # 36-character issuer ID\n",
    "    key_id=KEY_ID, # 10-character key ID from App Store Connect\n",
    "    private_key=PRIVATE_KEY\n",
    ")\n",
    "\n",
    "client = Client(credentials=credentials)\n",
    "\n",
    "data = client.get_data(\n",
    "    app_id = APP_ID,\n",
    "    report_name = REPORT_NAME\n",
    ")\n",
    "\n",
    "Handler.list_of_dicts_to_csv(data, CSV_PATH)\n",
    "Handler.list_of_dicts_to_jsonl(data, JSON_PATH)"
   ]
  },
  {
   "cell_type": "code",
   "execution_count": null,
   "metadata": {},
   "outputs": [],
   "source": [
    "reports = Handler.extract_attribute_values(client.list_reports(\n",
    "    app_id=APP_ID\n",
    "))\n",
    "\n",
    "for i in reports:\n",
    "    print(f\"{i['name'].upper().replace(' ', '_')} = (\\\"{i['name']}\\\",  Category.{i['category']})\")"
   ]
  },
  {
   "cell_type": "code",
   "execution_count": null,
   "metadata": {},
   "outputs": [],
   "source": [
    "from enum import Enum\n",
    "\n",
    "class App(str, Enum):\n",
    "\n",
    "    LRT = \"950949627\"\n",
    "    LGO = \"1207764294\"\n",
    "    MV = \"6451202232\"\n",
    "\n",
    "for app in [App.LRT, App.LGO, App.MV]:\n",
    "\n",
    "    report_requests = client.read_report_requests(\n",
    "        app_id=app.value\n",
    "    )\n",
    "\n",
    "    print(f\"{app.name}: report requests {len(report_requests)} - {report_requests}\")\n",
    "\n",
    "\n",
    "    if len(report_requests) == 0:\n",
    "\n",
    "        client.create_report_request(app_id = app.value)"
   ]
  },
  {
   "cell_type": "code",
   "execution_count": null,
   "metadata": {},
   "outputs": [],
   "source": [
    "app = \"6451202232\"\n",
    "report_requests = client.read_report_requests(\n",
    "    app_id=app\n",
    ")\n",
    "\n",
    "report_requests\n",
    "print(report_requests)\n",
    "report_requests_id = report_requests[0].get(\"id\")\n",
    "\n",
    "specific_request = client.read_report_for_specific_request(\n",
    "    report_requests_id,\n",
    "    params={\n",
    "        \"filter[category]\": REPORT_NAME.category.value,\n",
    "        \"filter[name]\":REPORT_NAME.value\n",
    "    }\n",
    ")\n",
    "print(Handler.extract_attribute_values(specific_request))\n",
    "specific_request_id = specific_request[0].get(\"id\")\n",
    "specific_request_ids = Handler.extract_ids(specific_request)\n",
    "\n",
    "for i in specific_request_ids:\n",
    "\n",
    "    instances = client.read_list_of_instances_of_report(\n",
    "        specific_request_id,\n",
    "        params={\"filter[granularity]\": \"DAILY\"}\n",
    "    )\n",
    "\n",
    "    for inst in instances:\n",
    "        print(inst)\n",
    "        inst_id = inst.get('id')\n",
    "\n",
    "        response_url = client._fetch_segment_urls([inst_id])\n",
    "        print(response_url)"
   ]
  },
  {
   "cell_type": "code",
   "execution_count": null,
   "metadata": {},
   "outputs": [],
   "source": [
    "#1A Read Report Requests\n",
    "report_requests = client.read_report_requests(app_id=APP_ID)\n",
    "report_request_id = report_requests.get(\"data\")[0].get(\"id\")\n",
    "RenderJSON(report_requests)\n"
   ]
  },
  {
   "cell_type": "code",
   "execution_count": null,
   "metadata": {},
   "outputs": [],
   "source": [
    "#2A Read Report\n",
    "report = client.read_report_for_specific_request(\n",
    "    request_id=report_request_id,\n",
    "    params={\n",
    "        \"filter[category]\": CATEGORY.value,\n",
    "        \"filter[name]\": REPORT_NAME\n",
    "    }\n",
    ")\n",
    "\n",
    "report_id = report.get(\"data\")[0].get(\"id\")\n",
    "print(report_id)\n",
    "print(report)\n",
    "RenderJSON(report)"
   ]
  },
  {
   "cell_type": "code",
   "execution_count": null,
   "metadata": {},
   "outputs": [],
   "source": [
    "#3A Read Report Instances\n",
    "instances = client.read_list_of_instances_of_report(\n",
    "    report_id=report_id,\n",
    "    params={\n",
    "        \"filter[granularity]\": GRANULARITY.value,\n",
    "        \"filter[processingDate]\": DATE\n",
    "    }\n",
    ")\n",
    "instance_id = instances.get(\"data\")[0].get(\"id\")\n",
    "RenderJSON(instances)"
   ]
  },
  {
   "cell_type": "code",
   "execution_count": null,
   "metadata": {},
   "outputs": [],
   "source": [
    "#4 Get segments\n",
    "segments = client.read_segments_for_report(\n",
    "    instance_id=instance_id\n",
    ")\n",
    "url  = segments.get(\"data\")[0].get(\"attributes\").get(\"url\")\n",
    "RenderJSON(segments)\n"
   ]
  },
  {
   "cell_type": "code",
   "execution_count": null,
   "metadata": {},
   "outputs": [],
   "source": [
    "# Download the report data\n",
    "data = client.download_report_to_dicts(\n",
    "    report_url=url\n",
    ")\n",
    "data"
   ]
  },
  {
   "cell_type": "code",
   "execution_count": null,
   "metadata": {},
   "outputs": [],
   "source": [
    "client.get_data(\n",
    "    app_id = APP_ID,\n",
    "    report_name = REPORT_NAME,\n",
    "    category = CATEGORY,\n",
    "    granularity = GRANULARITY,\n",
    "    dates = {'2025-07-25', '2025-07-26'}\n",
    ")\n"
   ]
  }
 ],
 "metadata": {
  "kernelspec": {
   "display_name": ".venv",
   "language": "python",
   "name": "python3"
  },
  "language_info": {
   "codemirror_mode": {
    "name": "ipython",
    "version": 3
   },
   "file_extension": ".py",
   "mimetype": "text/x-python",
   "name": "python",
   "nbconvert_exporter": "python",
   "pygments_lexer": "ipython3",
   "version": "3.12.7"
  }
 },
 "nbformat": 4,
 "nbformat_minor": 2
}
