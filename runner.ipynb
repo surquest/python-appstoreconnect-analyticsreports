{
 "cells": [
  {
   "cell_type": "code",
   "execution_count": 1,
   "metadata": {},
   "outputs": [],
   "source": [
    "import json\n",
    "from src.surquest.utils.appstoreconnect.credentials import Credentials\n",
    "from src.surquest.utils.appstoreconnect.analyticsreports.client import Client\n",
    "from src.surquest.utils.appstoreconnect.analyticsreports.handler import Handler\n",
    "from src.surquest.utils.appstoreconnect.analyticsreports.enums.category import Category\n",
    "from src.surquest.utils.appstoreconnect.analyticsreports.enums.granularity import Granularity\n",
    "from src.surquest.utils.appstoreconnect.analyticsreports.enums.report_name import ReportName\n",
    "from pathlib import Path"
   ]
  },
  {
   "cell_type": "code",
   "execution_count": null,
   "metadata": {},
   "outputs": [],
   "source": [
    "key_path = Path.cwd() / \"credentials\" / \"key.p8\"\n",
    "CATEGORY = Category.FRAMEWORK_USAGE\n",
    "REPORT_NAME = ReportName.APP_SESSIONS_STANDARD\n",
    "GRANULARITY = Granularity.DAILY\n",
    "\n",
    "APP_ID = \"950949627\"  # LRT\n",
    "# APP_ID = \"6451202232\" # MW\n",
    "# APP_ID = \"1207764294\" # LGO\n",
    "\n",
    "\n",
    "KEY_ID = '5WDUV3USAU' # 10-character key ID from App Store Connect\n",
    "ISSUER_ID = '69a6de80-fd44-47e3-e053-5b8c7c11a4d1'  # 36-character issuer ID\n",
    "PRIVATE_KEY = key_path.read_text()\n",
    "CSV_PATH = Path.cwd() / \"data\" / REPORT_NAME.name / f\"data.{APP_ID}.csv\"\n",
    "JSON_PATH = Path.cwd() / \"data\" / REPORT_NAME.name / f\"data.{APP_ID}.jsonl\"\n",
    "\n",
    "credentials = Credentials(\n",
    "    issuer_id=ISSUER_ID, # 36-character issuer ID\n",
    "    key_id=KEY_ID, # 10-character key ID from App Store Connect\n",
    "    private_key=PRIVATE_KEY\n",
    ")\n",
    "\n",
    "token = credentials.generate_token()\n",
    "client = Client(credentials=credentials)\n",
    "# client.create_reports_request(\n",
    "#     app_id=APP_ID,\n",
    "#     access_type=\"ONE_TIME_SNAPSHOT\"\n",
    "# )\n",
    "# data = client._get_resource(\n",
    "#     resource_path=f\"apps/{APP_ID}/customerReviews\",\n",
    "#     params={\n",
    "#         \"limit\": 200,\n",
    "#         \"sort\": \"-createdDate\",\n",
    "#         \"include\": \"response\",\n",
    "#         \"fields[customerReviewResponses]\": \"responseBody,lastModifiedDate,state,review\",\n",
    "#         \"fields[customerReviews]\": \"rating,title,body,reviewerNickname,createdDate,territory,response\"\n",
    "#     }\n",
    "# )\n",
    "\n",
    "# data = client.fetch_customer_reviews(\n",
    "#     app_id=APP_ID, \n",
    "#     last_known_customer_review_id=\"00000038-ae56-fb03-073b-3efc00000000\",\n",
    "#     max_iterations=10\n",
    "#     )\n",
    "\n",
    "# print(json.dumps(data, indent=4))"
   ]
  },
  {
   "cell_type": "code",
   "execution_count": null,
   "metadata": {},
   "outputs": [],
   "source": [
    "client.read_report_requests(\n",
    "    app_id=APP_ID,\n",
    "    access_type=\"ONE_TIME_SNAPSHOT\"\n",
    ")"
   ]
  },
  {
   "cell_type": "code",
   "execution_count": null,
   "metadata": {},
   "outputs": [],
   "source": [
    "\n",
    "data = client.get_data(\n",
    "    app_id = APP_ID,\n",
    "    report_name = REPORT_NAME,\n",
    "    # access_type = \"ONE_TIME_SNAPSHOT\"\n",
    ")\n",
    "\n",
    "Handler.list_of_dicts_to_csv(data, CSV_PATH)\n",
    "Handler.list_of_dicts_to_jsonl(data, JSON_PATH)"
   ]
  },
  {
   "cell_type": "code",
   "execution_count": null,
   "metadata": {},
   "outputs": [],
   "source": [
    "reports = Handler.extract_attribute_values(client.list_reports(\n",
    "    app_id=APP_ID\n",
    "))\n",
    "\n",
    "for i in reports:\n",
    "    print(f\"{i['name'].upper().replace(' ', '_')} = (\\\"{i['name']}\\\",  Category.{i['category']})\")"
   ]
  },
  {
   "cell_type": "code",
   "execution_count": null,
   "metadata": {},
   "outputs": [],
   "source": [
    "from enum import Enum\n",
    "\n",
    "class App(str, Enum):\n",
    "\n",
    "    LRT = \"950949627\"\n",
    "    LGO = \"1207764294\"\n",
    "    MV = \"6451202232\"\n",
    "\n",
    "for app in [App.LRT, App.LGO, App.MV]:\n",
    "\n",
    "    report_requests = client.read_report_requests(\n",
    "        app_id=app.value\n",
    "    )\n",
    "\n",
    "    print(f\"{app.name}: report requests {len(report_requests)} - {report_requests}\")\n",
    "\n",
    "\n",
    "    if len(report_requests) == 0:\n",
    "\n",
    "        client.create_report_request(app_id = app.value)"
   ]
  },
  {
   "cell_type": "code",
   "execution_count": null,
   "metadata": {},
   "outputs": [],
   "source": [
    "app = \"6451202232\"\n",
    "report_requests = client.read_report_requests(\n",
    "    app_id=app\n",
    ")\n",
    "\n",
    "report_requests\n",
    "print(report_requests)\n",
    "report_requests_id = report_requests[0].get(\"id\")\n",
    "\n",
    "specific_request = client.read_report_for_specific_request(\n",
    "    report_requests_id,\n",
    "    params={\n",
    "        \"filter[category]\": REPORT_NAME.category.value,\n",
    "        \"filter[name]\":REPORT_NAME.value\n",
    "    }\n",
    ")\n",
    "print(Handler.extract_attribute_values(specific_request))\n",
    "specific_request_id = specific_request[0].get(\"id\")\n",
    "specific_request_ids = Handler.extract_ids(specific_request)\n",
    "\n",
    "for i in specific_request_ids:\n",
    "\n",
    "    instances = client.read_list_of_instances_of_report(\n",
    "        specific_request_id,\n",
    "        params={\"filter[granularity]\": \"DAILY\"}\n",
    "    )\n",
    "\n",
    "    for inst in instances:\n",
    "        print(inst)\n",
    "        inst_id = inst.get('id')\n",
    "\n",
    "        response_url = client._fetch_segment_urls([inst_id])\n",
    "        print(response_url)"
   ]
  },
  {
   "cell_type": "code",
   "execution_count": null,
   "metadata": {},
   "outputs": [],
   "source": [
    "#1A Read Report Requests\n",
    "report_requests = client.read_report_requests(app_id=APP_ID)\n",
    "report_request_id = report_requests.get(\"data\")[0].get(\"id\")\n",
    "RenderJSON(report_requests)\n"
   ]
  },
  {
   "cell_type": "code",
   "execution_count": null,
   "metadata": {},
   "outputs": [],
   "source": [
    "#2A Read Report\n",
    "report = client.read_report_for_specific_request(\n",
    "    request_id=report_request_id,\n",
    "    params={\n",
    "        \"filter[category]\": CATEGORY.value,\n",
    "        \"filter[name]\": REPORT_NAME\n",
    "    }\n",
    ")\n",
    "\n",
    "report_id = report.get(\"data\")[0].get(\"id\")\n",
    "print(report_id)\n",
    "print(report)\n",
    "RenderJSON(report)"
   ]
  },
  {
   "cell_type": "code",
   "execution_count": null,
   "metadata": {},
   "outputs": [],
   "source": [
    "#3A Read Report Instances\n",
    "instances = client.read_list_of_instances_of_report(\n",
    "    report_id=report_id,\n",
    "    params={\n",
    "        \"filter[granularity]\": GRANULARITY.value,\n",
    "        \"filter[processingDate]\": DATE\n",
    "    }\n",
    ")\n",
    "instance_id = instances.get(\"data\")[0].get(\"id\")\n",
    "RenderJSON(instances)"
   ]
  },
  {
   "cell_type": "code",
   "execution_count": null,
   "metadata": {},
   "outputs": [],
   "source": [
    "#4 Get segments\n",
    "segments = client.read_segments_for_report(\n",
    "    instance_id=instance_id\n",
    ")\n",
    "url  = segments.get(\"data\")[0].get(\"attributes\").get(\"url\")\n",
    "RenderJSON(segments)\n"
   ]
  },
  {
   "cell_type": "code",
   "execution_count": null,
   "metadata": {},
   "outputs": [],
   "source": [
    "# Download the report data\n",
    "data = client.download_report_to_dicts(\n",
    "    report_url=url\n",
    ")\n",
    "data"
   ]
  },
  {
   "cell_type": "code",
   "execution_count": null,
   "metadata": {},
   "outputs": [],
   "source": [
    "client.get_data(\n",
    "    app_id = APP_ID,\n",
    "    report_name = REPORT_NAME,\n",
    "    category = CATEGORY,\n",
    "    granularity = GRANULARITY,\n",
    "    dates = {'2025-07-25', '2025-07-26'}\n",
    ")\n"
   ]
  }
 ],
 "metadata": {
  "kernelspec": {
   "display_name": ".venv",
   "language": "python",
   "name": "python3"
  },
  "language_info": {
   "codemirror_mode": {
    "name": "ipython",
    "version": 3
   },
   "file_extension": ".py",
   "mimetype": "text/x-python",
   "name": "python",
   "nbconvert_exporter": "python",
   "pygments_lexer": "ipython3",
   "version": "3.12.7"
  }
 },
 "nbformat": 4,
 "nbformat_minor": 2
}
